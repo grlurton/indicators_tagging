{
 "cells": [
  {
   "cell_type": "code",
   "execution_count": 1,
   "metadata": {
    "collapsed": true
   },
   "outputs": [],
   "source": [
    "import jellyfish as jl\n",
    "import pandas as pd\n",
    "import json\n",
    "import numpy as np"
   ]
  },
  {
   "cell_type": "markdown",
   "metadata": {},
   "source": [
    "## Chargement des indicateurs"
   ]
  },
  {
   "cell_type": "code",
   "execution_count": 2,
   "metadata": {
    "collapsed": true
   },
   "outputs": [],
   "source": [
    "with open('data/indicators_lists.json') as data_file:\n",
    "    data = json.load(data_file)"
   ]
  },
  {
   "cell_type": "code",
   "execution_count": 43,
   "metadata": {
    "collapsed": false
   },
   "outputs": [],
   "source": [
    "indicateurs_kivu = data['kivu']\n",
    "indicateurs_rca = data['rca']\n",
    "\n",
    "def get_list_indics(indicateurs_pays) :\n",
    "    indicateurs = []\n",
    "    for t in ['pma' , 'pca'] :\n",
    "        indics = indicateurs_pays[t]\n",
    "        for u in indics.keys() :\n",
    "            lib = indics[u]['lib']\n",
    "            indicateurs.append(lib)\n",
    "    return indicateurs\n",
    "\n",
    "indicateurs_libs_rca = get_list_indics(indicateurs_rca)\n",
    "indicateurs_libs_kivu = get_list_indics(indicateurs_kivu)\n",
    "\n",
    "all_indicateurs = indicateurs_libs_rca\n",
    "for i in range(len(indicateurs_libs_kivu)) :\n",
    "    all_indicateurs.append(indicateurs_libs_kivu[i])"
   ]
  },
  {
   "cell_type": "markdown",
   "metadata": {},
   "source": [
    "## Approche 1 : Distance Jaro"
   ]
  },
  {
   "cell_type": "markdown",
   "metadata": {},
   "source": [
    "Première approche : on regarde la [distance Jaro](https://en.wikipedia.org/wiki/Jaro%E2%80%93Winkler_distance) qui est juste une mesure de la distance entre les chaines de caractère "
   ]
  },
  {
   "cell_type": "code",
   "execution_count": 4,
   "metadata": {
    "collapsed": false
   },
   "outputs": [],
   "source": [
    "def get_closest_jaro(indicateur , list_indicateurs):\n",
    "    distances = {}\n",
    "    for i in range(len(list_indicateurs)):\n",
    "        jro = jl.jaro_distance(indicateur , list_indicateurs[i])\n",
    "        distances[list_indicateurs[i]] = jro\n",
    "    print(indicateur)\n",
    "    print(sorted(distances, key=distances.get , reverse = True))\n",
    "    return(distances)"
   ]
  },
  {
   "cell_type": "code",
   "execution_count": 44,
   "metadata": {
    "collapsed": false
   },
   "outputs": [
    {
     "name": "stdout",
     "output_type": "stream",
     "text": [
      "Enfants completement vaccines\n",
      "['Enfants completement vaccines', 'Contre referes avec documents', 'Enfant 12 a 59 mois ayant realise 4 visites standards (1/trim)', 'Indigent ayant recu Implants ou DIU', 'Consultations externes', 'PF Naturelle nouvelles inscrites', 'Femme enceinte ayant recu VAT 2+', 'Enfant de 12 a 59 mois inscrit a la CPS 2', 'Autres accouchements dystociques (cesariennes exclues)', 'Consultations externes (nvx cas de victime  des violences sexuelles traites dans 72h)', 'PF Naturelle nouvelles inscrites couples autonomes', 'Cesariennes (30% des accouchements dystociques)', 'PF: Ligatures et vasectomies', 'Nombre de retro-informations arrivees', 'Pilule + Inj (Anc acceptantes) (si score qualite >ou= a 60%)', 'Pilule + Inj (Nouv acceptantes) (si score qualite >ou= a 60%)', 'NC Indigent nouvelle utilisatrice (Pillule+Injection)', 'Nombre des visites a  domicile realisees', \"Nombre de reunions d'echange avec les jeunes  et  adolescents de 10 a   24 ans organise au CS\", \"Nombre d'Accouchees VIH+ mis sous traitement\", 'Nombre des femmes enceintes testees au VIH', \"Nombre d'Accouchees  VIH+ mis sous traitement\", 'Indigent Ancienne  utilisatrice PF (Pillule -Injection)', 'Nouveaux Cas  vus  par medecin', 'Transfusion de Sang - Don benevole', 'CPN 3 visites standards accomplies', 'Promptitude et completude a 100% du SNIS transmis au BCZS', 'Promptitude, completude et correctitude a  100% du SNIS transmis au BCZS', \"PF: Insertion d'implants ou DIU 2% par an\", 'Nouveaux cas TBC + depistes (3 examens crachat)', \"Reunions d'echange avec les jeunes et adolescents de 10 a 24 ans organise au CS\", 'NC Indigent PF Ligature ou vasectomie gratuit', 'Accouchements assistes dans FOSA (si score qualite >ou= a 60%)', 'Cesariennes avec 3 CPN', \"Reunion  d'analyse des donnees SNIS  y compris les donnees financieres  transmis  en annexe du SNIS  au BCZS  et rapport  SSR  transmis chez AAP\", 'Accouchements assistes avec 3 CPN (si score qualite > ou = a 60%)', 'Accouchements dystociques avec 3 CPN (si score qualite > ou = a 60%)', \"Patients graves referes et arrive a l'hopital\", 'Nombre de cas TBC traites et BK- apres 6 mois', 'Nouveau  cas suivi en observation', 'PF: Couple ayant adhere aux methodes PF modernes', \"Reunion  d'analyse des donnees SNIS  y compris les donnees financieres\", 'Nbre des jeunes de 18 a  24 ans ayant  reÃ§u les contraceptifs modernes', 'NC Indigent PF sous DIU ou Implant gratuit', 'Nbre des jeunes de 10 a  24 ans ayant beneficie le service  SSR', 'Score qualite des soins a  HGR evaluee par les pairs', 'Nombre des couples testes au VIH pour PTME ', 'Nbre des jeunes de 18 a 24ans ayant  Beneficier des Services de sante pour Jeunes et adolescents', \"Cas de VVS Referes  et arrivees a  l'Hopital\", \"PF. Nombre des cas de Ligature et Vasectomie  referes et arrive a  l'hopital\", 'CPN: 2eme visite au 42e jour', 'Nombre des nouveau-nes des femmes  VIH+ mis sous traitement', 'Grossesses a  haut risque referee et arrivee', 'CPN au 4eme mois (debut T2)']\n"
     ]
    },
    {
     "data": {
      "text/plain": [
       "{'Accouchements assistes avec 3 CPN (si score qualite > ou = a 60%)': 0.5236747926403099,\n",
       " 'Accouchements assistes dans FOSA (si score qualite >ou= a 60%)': 0.5288857107544538,\n",
       " 'Accouchements dystociques avec 3 CPN (si score qualite > ou = a 60%)': 0.5189236614185905,\n",
       " 'Autres accouchements dystociques (cesariennes exclues)': 0.5856457293238903,\n",
       " 'CPN 3 visites standards accomplies': 0.549104124408384,\n",
       " 'CPN au 4eme mois (debut T2)': 0.4527458492975734,\n",
       " 'CPN: 2eme visite au 42e jour': 0.4752326217843459,\n",
       " \"Cas de VVS Referes  et arrivees a  l'Hopital\": 0.48126586057620546,\n",
       " 'Cesariennes (30% des accouchements dystociques)': 0.580791671033784,\n",
       " 'Cesariennes avec 3 CPN': 0.5258821638131983,\n",
       " 'Consultations externes': 0.5996865203761755,\n",
       " 'Consultations externes (nvx cas de victime  des violences sexuelles traites dans 72h)': 0.585395537525355,\n",
       " 'Contre referes avec documents': 0.6297640653357531,\n",
       " 'Enfant 12 a 59 mois ayant realise 4 visites standards (1/trim)': 0.6199077880414632,\n",
       " 'Enfant de 12 a 59 mois inscrit a la CPS 2': 0.5939787558795128,\n",
       " 'Enfants completement vaccines': 1.0,\n",
       " 'Femme enceinte ayant recu VAT 2+': 0.5981002554278416,\n",
       " 'Grossesses a  haut risque referee et arrivee': 0.46382793451758975,\n",
       " 'Indigent Ancienne  utilisatrice PF (Pillule -Injection)': 0.5510971786833857,\n",
       " 'Indigent ayant recu Implants ou DIU': 0.6005473453749315,\n",
       " 'NC Indigent PF Ligature ou vasectomie gratuit': 0.5345701418296699,\n",
       " 'NC Indigent PF sous DIU ou Implant gratuit': 0.5067935220065037,\n",
       " 'NC Indigent nouvelle utilisatrice (Pillule+Injection)': 0.5639309725191313,\n",
       " 'Nbre des jeunes de 10 a  24 ans ayant beneficie le service  SSR': 0.5010356633074685,\n",
       " 'Nbre des jeunes de 18 a  24 ans ayant  reÃ§u les contraceptifs modernes': 0.5071151044196213,\n",
       " 'Nbre des jeunes de 18 a 24ans ayant  Beneficier des Services de sante pour Jeunes et adolescents': 0.48266283524904213,\n",
       " \"Nombre d'Accouchees  VIH+ mis sous traitement\": 0.5521140014787927,\n",
       " \"Nombre d'Accouchees VIH+ mis sous traitement\": 0.555312654677446,\n",
       " 'Nombre de cas TBC traites et BK- apres 6 mois': 0.5174066561490497,\n",
       " 'Nombre de retro-informations arrivees': 0.5727624175900038,\n",
       " \"Nombre de reunions d'echange avec les jeunes  et  adolescents de 10 a   24 ans organise au CS\": 0.5563280187863059,\n",
       " 'Nombre des couples testes au VIH pour PTME ': 0.4954390537289495,\n",
       " 'Nombre des femmes enceintes testees au VIH': 0.5552818828680898,\n",
       " 'Nombre des nouveau-nes des femmes  VIH+ mis sous traitement': 0.46791808482598185,\n",
       " 'Nombre des visites a  domicile realisees': 0.5606002554278416,\n",
       " 'Nouveau  cas suivi en observation': 0.5121908742598398,\n",
       " 'Nouveaux Cas  vus  par medecin': 0.5491858237547893,\n",
       " 'Nouveaux cas TBC + depistes (3 examens crachat)': 0.5383956957691367,\n",
       " 'PF Naturelle nouvelles inscrites': 0.5981002554278416,\n",
       " 'PF Naturelle nouvelles inscrites couples autonomes': 0.5813584117032392,\n",
       " \"PF. Nombre des cas de Ligature et Vasectomie  referes et arrive a  l'hopital\": 0.4771627344222626,\n",
       " 'PF: Couple ayant adhere aux methodes PF modernes': 0.5095362857786793,\n",
       " \"PF: Insertion d'implants ou DIU 2% par an\": 0.5384232003239573,\n",
       " 'PF: Ligatures et vasectomies': 0.5742538394668212,\n",
       " \"Patients graves referes et arrive a l'hopital\": 0.5174066561490497,\n",
       " 'Pilule + Inj (Anc acceptantes) (si score qualite >ou= a 60%)': 0.5660586373479927,\n",
       " 'Pilule + Inj (Nouv acceptantes) (si score qualite >ou= a 60%)': 0.5639639196795044,\n",
       " 'Promptitude et completude a 100% du SNIS transmis au BCZS': 0.5468441217987497,\n",
       " 'Promptitude, completude et correctitude a  100% du SNIS transmis au BCZS': 0.5449507389162561,\n",
       " \"Reunion  d'analyse des donnees SNIS  y compris les donnees financieres\": 0.508456486042693,\n",
       " \"Reunion  d'analyse des donnees SNIS  y compris les donnees financieres  transmis  en annexe du SNIS  au BCZS  et rapport  SSR  transmis chez AAP\": 0.5258620689655172,\n",
       " \"Reunions d'echange avec les jeunes et adolescents de 10 a 24 ans organise au CS\": 0.5353272730723245,\n",
       " 'Score qualite des soins a  HGR evaluee par les pairs': 0.5004550891974827,\n",
       " 'Transfusion de Sang - Don benevole': 0.549104124408384}"
      ]
     },
     "execution_count": 44,
     "metadata": {},
     "output_type": "execute_result"
    }
   ],
   "source": [
    "get_closest_jaro(indicateurs_libs_rca[19] , indicateurs_libs_kivu)"
   ]
  },
  {
   "cell_type": "markdown",
   "metadata": {},
   "source": [
    "## Approche 2: Latent Semantic Indexing"
   ]
  },
  {
   "cell_type": "markdown",
   "metadata": {},
   "source": [
    "Seconde approche, en utilisant une analyse du vocabulaire utilisé. Idée et une bonne partie du code trouvés chez [Ryan Lambert](http://www.ryanglambert.com/blog/latent-semantic-indexing-how-i-built-pubmatchco). "
   ]
  },
  {
   "cell_type": "markdown",
   "metadata": {},
   "source": [
    "### Keywords extraction"
   ]
  },
  {
   "cell_type": "markdown",
   "metadata": {},
   "source": [
    "Dans un premier temps, on veut extraire les mots importants du libelle des indicateurs. Fait pour le français avec le model Part of Speach pour le français rendu dispo par une équipe de Stanford."
   ]
  },
  {
   "cell_type": "code",
   "execution_count": 6,
   "metadata": {
    "collapsed": false
   },
   "outputs": [],
   "source": [
    "import nltk\n",
    "from nltk.tokenize import word_tokenize\n",
    "from nltk.tag.stanford import StanfordPOSTagger\n",
    "\n",
    "import os\n",
    "os.environ[\"JAVAHOME\"] = 'C:\\\\Program Files (x86)\\\\Java\\\\jre1.8.0_91\\\\bin'\n",
    "\n",
    "wd = 'C:\\\\Users\\\\Grlurton\\\\Documents\\\\indicators_tagging\\\\'\n",
    "\n",
    "path_to_french_model = wd + \"data\\\\stanford-postagger-full-2015-12-09\\\\stanford-postagger-full-2015-12-09\\\\models\\\\french.tagger\"\n",
    "path_to_jar = wd + 'data\\\\stanford-postagger-full-2015-12-09\\\\stanford-postagger-full-2015-12-09\\\\stanford-postagger.jar'\n",
    "\n",
    "french_tagger = StanfordPOSTagger(path_to_french_model, path_to_jar, encoding=\"utf-8\")"
   ]
  },
  {
   "cell_type": "code",
   "execution_count": 7,
   "metadata": {
    "collapsed": true
   },
   "outputs": [],
   "source": [
    "def tokenize_and_tag_indicators(indicateur):\n",
    "    tagged_indicator = french_tagger.tag(word_tokenize(indicateur))\n",
    "    return tagged_indicator\n",
    "\n",
    "def keep_important_words(tagged_indicator):\n",
    "    noms = []\n",
    "    for n in range(len(tagged_indicator)) :\n",
    "        tag = tagged_indicator[n][1]\n",
    "        if tag in ['NN','NNS','NNP','JJ','RB','VB','N','NPP','V','NC','ADJ']:\n",
    "            noms.append(tagged_indicator[n][0])\n",
    "    return noms\n",
    "            \n",
    "def wrapper_indicators_extract(indicateur):\n",
    "    tagged_indicator = tokenize_and_tag_indicators(indicateur)\n",
    "    key_words = keep_important_words(tagged_indicator)\n",
    "    return key_words"
   ]
  },
  {
   "cell_type": "code",
   "execution_count": 8,
   "metadata": {
    "collapsed": false
   },
   "outputs": [],
   "source": [
    "key_words = []\n",
    "for i in range(len(all_indicateurs)) :\n",
    "    words = wrapper_indicators_extract(all_indicateurs[i])\n",
    "    for w in words :\n",
    "        key_words.append(w)\n",
    "        \n",
    "key_words = pd.Series(key_words)\n",
    "key_words = key_words.unique()"
   ]
  },
  {
   "cell_type": "markdown",
   "metadata": {},
   "source": [
    "### Additional Processing of keywords"
   ]
  },
  {
   "cell_type": "markdown",
   "metadata": {},
   "source": [
    "En regardant les premiers résultats, il semble qu'on ait des situations un peu problématique, comme \n",
    "\n",
    "1. des singuliers / pluriels qui seront pris comme des mots différents\n",
    "2. des mots non sécifiques (\"nombre de\") qui peuvent nuire à l'analyse\n",
    "3. les synonymes utilisés ou termes différents dans différents pays\n",
    "\n",
    "Quelques pistes pour corriger ça.\n",
    "\n",
    "1. Pour les versions différentes d'un même mot avec pluriel, juste recherche avec distance Levenshtein qui devrait permettre de trouver les mots trop proches\n",
    "2. ??\n",
    "3. ..."
   ]
  },
  {
   "cell_type": "code",
   "execution_count": 45,
   "metadata": {
    "collapsed": false
   },
   "outputs": [
    {
     "data": {
      "text/plain": [
       "233"
      ]
     },
     "execution_count": 45,
     "metadata": {},
     "output_type": "execute_result"
    }
   ],
   "source": [
    "len(key_words)"
   ]
  },
  {
   "cell_type": "code",
   "execution_count": null,
   "metadata": {
    "collapsed": false
   },
   "outputs": [],
   "source": []
  },
  {
   "cell_type": "markdown",
   "metadata": {},
   "source": [
    "### LSI proprement dite"
   ]
  },
  {
   "cell_type": "code",
   "execution_count": 10,
   "metadata": {
    "collapsed": false
   },
   "outputs": [],
   "source": [
    "a = []\n",
    "for indicateur in all_indicateurs :\n",
    "    default = np.zeros(len(key_words))\n",
    "    words = word_tokenize(indicateur)\n",
    "    for i in range(len(key_words)):\n",
    "        if key_words[i] in words :\n",
    "            default[i] = 1\n",
    "    a.append(default.tolist())\n",
    "\n",
    "a = np.asarray(a)"
   ]
  },
  {
   "cell_type": "code",
   "execution_count": 12,
   "metadata": {
    "collapsed": false
   },
   "outputs": [],
   "source": [
    "import scipy as sp\n",
    "import matplotlib.pyplot as plt\n",
    "from sklearn.feature_extraction.text import TfidfVectorizer, CountVectorizer\n",
    "\n",
    "from scipy.sparse.linalg import svds as SVDS\n",
    "from scipy.spatial.distance import pdist\n",
    "from scipy.spatial.distance import squareform\n",
    "from sklearn.manifold import TSNE\n",
    "from sklearn.metrics.pairwise import distance_metrics \n",
    "from sklearn.metrics.pairwise import pairwise_distances\n",
    "import seaborn as sns\n",
    "\n",
    "%matplotlib inline"
   ]
  },
  {
   "cell_type": "code",
   "execution_count": 13,
   "metadata": {
    "collapsed": true
   },
   "outputs": [],
   "source": [
    "docs, eigen_roots, terms_T = SVDS(a, k=2)"
   ]
  },
  {
   "cell_type": "code",
   "execution_count": 14,
   "metadata": {
    "collapsed": false
   },
   "outputs": [],
   "source": [
    "list_of_concepts = []\n",
    "for principal_component in terms_T:\n",
    "    concept_dict = {}\n",
    "    for index, j in enumerate(principal_component):\n",
    "        concept_dict[key_words[index]] = j\n",
    "    list_of_concepts.append(concept_dict)"
   ]
  },
  {
   "cell_type": "code",
   "execution_count": 15,
   "metadata": {
    "collapsed": false
   },
   "outputs": [],
   "source": [
    "def find_closest(indicator_num):\n",
    "    dist  = 1\n",
    "    min_dist = 0\n",
    "    for j in range(len(all_indicateurs)):\n",
    "        if j != indicator_num :\n",
    "            d = pdist((docs[indicator_num, :],docs[j, :]))\n",
    "            if d < dist :\n",
    "                dist = d\n",
    "                min_dist = j\n",
    "    print(all_indicateurs[indicator_num])\n",
    "    print('       ' + all_indicateurs[min_dist])\n",
    "    return min_dist"
   ]
  },
  {
   "cell_type": "code",
   "execution_count": 38,
   "metadata": {
    "collapsed": false
   },
   "outputs": [
    {
     "name": "stdout",
     "output_type": "stream",
     "text": [
      "VIH, personne testee\n",
      "       Contre referes avec documents\n"
     ]
    },
    {
     "data": {
      "text/plain": [
       "105"
      ]
     },
     "execution_count": 38,
     "metadata": {},
     "output_type": "execute_result"
    }
   ],
   "source": [
    "find_closest(21)"
   ]
  },
  {
   "cell_type": "code",
   "execution_count": 40,
   "metadata": {
    "collapsed": false
   },
   "outputs": [],
   "source": [
    "a_quiver = np.concatenate((np.asarray([[0, 0]]*len(all_indicateurs)), docs),axis=1)"
   ]
  },
  {
   "cell_type": "code",
   "execution_count": 41,
   "metadata": {
    "collapsed": false
   },
   "outputs": [
    {
     "data": {
      "image/png": "[encoded data removed]",
      "text/plain": [
       "<matplotlib.figure.Figure at 0x829d3fd390>"
      ]
     },
     "metadata": {},
     "output_type": "display_data"
    }
   ],
   "source": [
    "import numpy as np\n",
    "import matplotlib.pyplot as plt\n",
    "\n",
    "soa = a_quiver\n",
    "X,Y,U,V = zip(*soa)\n",
    "plt.figure(figsize=(10,10))\n",
    "ax = plt.gca()\n",
    "ax.quiver(X,Y,U,V,angles='xy',scale_units='xy',scale=1)\n",
    "ax.set_xlim([-0.5,0.5])\n",
    "ax.set_ylim([-0.5,0.5])\n",
    "plt.draw()\n",
    "plt.show()"
   ]
  },
  {
   "cell_type": "code",
   "execution_count": 42,
   "metadata": {
    "collapsed": false
   },
   "outputs": [
    {
     "data": {
      "image/png": "[encoded data removed]",
      "text/plain": [
       "<matplotlib.figure.Figure at 0x829d377c50>"
      ]
     },
     "metadata": {},
     "output_type": "display_data"
    }
   ],
   "source": [
    "plt.figure(figsize= (10, 10))\n",
    "plt.imshow(pairwise_distances(docs, metric='cosine'), interpolation='nearest')\n",
    "plt.savefig('cosine_similarity_bacon_books.png')\n",
    "plt.show()"
   ]
  },
  {
   "cell_type": "code",
   "execution_count": null,
   "metadata": {
    "collapsed": true
   },
   "outputs": [],
   "source": []
  }
 ],
 "metadata": {
  "kernelspec": {
   "display_name": "Python 3",
   "language": "python",
   "name": "python3"
  },
  "language_info": {
   "codemirror_mode": {
    "name": "ipython",
    "version": 3
   },
   "file_extension": ".py",
   "mimetype": "text/x-python",
   "name": "python",
   "nbconvert_exporter": "python",
   "pygments_lexer": "ipython3",
   "version": "3.5.1"
  }
 },
 "nbformat": 4,
 "nbformat_minor": 0
}
