{
 "cells": [
  {
   "cell_type": "code",
   "execution_count": 1,
   "metadata": {
    "collapsed": true
   },
   "outputs": [],
   "source": [
    "import json\n",
    "import pandas as pd\n",
    "from pandas.io.json import json_normalize"
   ]
  },
  {
   "cell_type": "markdown",
   "metadata": {},
   "source": [
    "Chargement des fonctions de mapping"
   ]
  },
  {
   "cell_type": "code",
   "execution_count": 2,
   "metadata": {
    "collapsed": false
   },
   "outputs": [],
   "source": [
    "from indicators_mapping import *"
   ]
  },
  {
   "cell_type": "markdown",
   "metadata": {},
   "source": [
    "## Récuperer les résultats de mapping existant"
   ]
  },
  {
   "cell_type": "code",
   "execution_count": 3,
   "metadata": {
    "collapsed": false
   },
   "outputs": [],
   "source": [
    "with open('outputs/ethiopie_rca_map.json') as data_file:\n",
    "    data = json.load(data_file)"
   ]
  },
  {
   "cell_type": "code",
   "execution_count": 4,
   "metadata": {
    "collapsed": false
   },
   "outputs": [],
   "source": [
    "def get_ordered_mapping(data , indic_ID):\n",
    "    dists = json.loads(data[indic_ID]['matching'])\n",
    "    u = json_normalize(dists)\n",
    "    out = u.sort_values(by=['distances'], ascending=[True])\n",
    "    return out\n",
    "\n",
    "def output_mapping(data , indic_ID):\n",
    "    u = get_ordered_mapping(data , indic_ID)\n",
    "    print(\"Indicateur : \" + data[indic_ID]['lib'])\n",
    "    print(\"Meilleurs matches :\")\n",
    "    print(u.head(5))"
   ]
  },
  {
   "cell_type": "markdown",
   "metadata": {},
   "source": [
    "Exemple d'output pour l'indicateur ETH1"
   ]
  },
  {
   "cell_type": "code",
   "execution_count": 5,
   "metadata": {
    "collapsed": false
   },
   "outputs": [
    {
     "name": "stdout",
     "output_type": "stream",
     "text": [
      "Indicateur : Out Patient Consultations (new cases)\n",
      "Meilleurs matches :\n",
      "    distances indicators                                         lib\n",
      "25  11.111111       RCA2            Consultations externes (nvx cas)\n",
      "24  22.777778       RCA1                       Consultation curative\n",
      "11  22.777778      RCA32           Consultation médecin nouveaux cas\n",
      "22  23.333333      RCA29  Nombre de cas de violence sexuelle référée\n",
      "41  23.333333      RCA16                                  TBC guérie\n"
     ]
    }
   ],
   "source": [
    "output_mapping(data , 'ETH1')"
   ]
  },
  {
   "cell_type": "code",
   "execution_count": 6,
   "metadata": {
    "collapsed": false
   },
   "outputs": [
    {
     "name": "stdout",
     "output_type": "stream",
     "text": [
      "Indicateur : HIV positive tested pregnant women put on PMTCT option B+\n",
      "Meilleurs matches :\n",
      "    distances indicators                                                lib\n",
      "20  11.666667      RCA22  PTPE : Femme VIH+ traitée selon le schéma nati...\n",
      "7   11.666667      RCA39     Femmes enceinte sous protocole ARV prophylaxie\n",
      "33  12.222222      RCA20                 PTPE : Femme enceinte VIH dépistée\n",
      "0   12.777778      RCA41   Prise en charge d'un nouveau-né d'une femme VIH+\n",
      "15  12.777778      RCA24  PTPE : Nouveau-né d'une femme VIH+ traité selo...\n"
     ]
    }
   ],
   "source": [
    "output_mapping(data , 'ETH9')"
   ]
  },
  {
   "cell_type": "markdown",
   "metadata": {},
   "source": [
    "## Mapping direct"
   ]
  },
  {
   "cell_type": "code",
   "execution_count": 7,
   "metadata": {
    "collapsed": true
   },
   "outputs": [],
   "source": [
    "with open('data/indicators_lists.json') as data_file:\n",
    "    data = json.load(data_file)\n",
    "\n",
    "ethiopia = data['ethiopia']\n",
    "kivu = data['kivu']\n",
    "rca = data['rca']"
   ]
  },
  {
   "cell_type": "code",
   "execution_count": 8,
   "metadata": {
    "collapsed": true
   },
   "outputs": [],
   "source": [
    "def get_direct_mapping(data1 , indic_ID , data2) :\n",
    "    u = match_indicator_in_dataset(data1[indic_ID] , data2)\n",
    "    out = u.sort_values(by=['distances'], ascending=[True])\n",
    "    \n",
    "    print(\"Indicateur : \" + data1[indic_ID]['lib'])\n",
    "    print(\"Meilleurs matches :\")\n",
    "    print(out.head(5))\n",
    "    y = input(\"voir le mapping complet (y/n) ?\")\n",
    "    if y == 'y' :\n",
    "        print(out)"
   ]
  },
  {
   "cell_type": "code",
   "execution_count": 15,
   "metadata": {
    "collapsed": false
   },
   "outputs": [
    {
     "name": "stdout",
     "output_type": "stream",
     "text": [
      "Indicateur : Newborn management of a baby born to an HIV positive mother\n",
      "Meilleurs matches :\n",
      "    distances indicators                                                lib\n",
      "0   11.111111      RCA24  PTPE : Nouveau-né d'une femme VIH+ traité selo...\n",
      "4   12.777778      RCA26                               VIH, personne testée\n",
      "5   12.777778      RCA22  PTPE : Femme VIH+ traitée selon le schéma nati...\n",
      "18  13.333333      RCA20                 PTPE : Femme enceinte VIH dépistée\n",
      "26  23.333333      RCA16                                         TBC guérie\n",
      "voir le mapping complet (y/n) ?y\n",
      "    distances indicators                                                lib\n",
      "0   11.111111      RCA24  PTPE : Nouveau-né d'une femme VIH+ traité selo...\n",
      "4   12.777778      RCA26                               VIH, personne testée\n",
      "5   12.777778      RCA22  PTPE : Femme VIH+ traitée selon le schéma nati...\n",
      "18  13.333333      RCA20                 PTPE : Femme enceinte VIH dépistée\n",
      "26  23.333333      RCA16                                         TBC guérie\n",
      "25  23.888889      RCA12                  Prise en charge violence sexuelle\n",
      "20  23.888889      RCA13                               Patient grave référé\n",
      "17  23.888889      RCA23                  Nombre de cas de fièvres référées\n",
      "14  23.888889      RCA15                              Dépistage adéquat TBC\n",
      "10  23.888889       RCA2                   Consultations externes (nvx cas)\n",
      "30  23.888889       RCA5                                   Petite chirurgie\n",
      "7   23.888889      RCA29         Nombre de cas de violence sexuelle référée\n",
      "12  24.444444      RCA17          PF: Insertion d'implants ou DIU 2% par an\n",
      "24  24.444444      RCA14                             Accouchement eutocique\n",
      "23  24.444444       RCA9               Femme enceinte complètement vaccinée\n",
      "19  24.444444      RCA21  Nombre de femmes enceintes référées (pour la C...\n",
      "6   24.444444      RCA28          Accouchement eutocique assisté dans le CS\n",
      "3   24.444444      RCA18            Enfant avec malnutrition modérée traité\n",
      "21  25.000000      RCA11  Enfants de 16-36 mois ayant reçu la vit. A et ...\n",
      "8   25.000000      RCA27     Nombre d'enfants malnutris dépistés et référés\n",
      "13  25.000000       RCA7  Nombre d'enfants ayant reçu le PENTA 3 avant 1...\n",
      "1   25.000000      RCA10                      Enfants complètement vaccinés\n",
      "29  35.000000       RCA3                          Journée d'hospitalisation\n",
      "9   35.000000       RCA1                              Consultation curative\n",
      "27  35.000000       RCA4  Prise en charge des infections opportunistes SIDA\n",
      "15  35.000000       RCA6           Journée d'hospitalisation (1 lit/ 1 000)\n",
      "22  35.555556      RCA19          CPN Total Nouvelles + 3 visites Standards\n",
      "2   35.555556      RCA30  PF : Pilule+inj : 1 nouvelle + 3 anciennes acc...\n",
      "16  35.555556      RCA31  Consultation prénatale 3ème visite correctemen...\n",
      "11        NaN       RCA8                             PENTA 3 Stratégie fixe\n",
      "28        NaN      RCA25  Nombre de patients perdus et retrouvés (vaccin...\n"
     ]
    }
   ],
   "source": [
    "get_direct_mapping(ethiopia , 'ETH10' , rca['pma'])"
   ]
  },
  {
   "cell_type": "code",
   "execution_count": null,
   "metadata": {
    "collapsed": true
   },
   "outputs": [],
   "source": []
  }
 ],
 "metadata": {
  "kernelspec": {
   "display_name": "Python 3",
   "language": "python",
   "name": "python3"
  },
  "language_info": {
   "codemirror_mode": {
    "name": "ipython",
    "version": 3
   },
   "file_extension": ".py",
   "mimetype": "text/x-python",
   "name": "python",
   "nbconvert_exporter": "python",
   "pygments_lexer": "ipython3",
   "version": "3.5.1"
  }
 },
 "nbformat": 4,
 "nbformat_minor": 0
}
