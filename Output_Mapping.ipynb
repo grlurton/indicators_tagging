{
 "cells": [
  {
   "cell_type": "code",
   "execution_count": 119,
   "metadata": {
    "collapsed": true
   },
   "outputs": [],
   "source": [
    "import json\n",
    "import pandas as pd\n",
    "from pandas.io.json import json_normalize"
   ]
  },
  {
   "cell_type": "markdown",
   "metadata": {},
   "source": [
    "Chargement des fonctions de mapping"
   ]
  },
  {
   "cell_type": "code",
   "execution_count": 104,
   "metadata": {
    "collapsed": false
   },
   "outputs": [],
   "source": [
    "from indicators_mapping import *"
   ]
  },
  {
   "cell_type": "markdown",
   "metadata": {},
   "source": [
    "Chargement du mapping ethiopie sur RCA"
   ]
  },
  {
   "cell_type": "code",
   "execution_count": 17,
   "metadata": {
    "collapsed": false
   },
   "outputs": [],
   "source": [
    "with open('outputs/ethiopie_rca_map.json') as data_file:\n",
    "    data = json.load(data_file)"
   ]
  },
  {
   "cell_type": "markdown",
   "metadata": {},
   "source": [
    "Fonctions output"
   ]
  },
  {
   "cell_type": "code",
   "execution_count": 56,
   "metadata": {
    "collapsed": false
   },
   "outputs": [],
   "source": [
    "def get_ordered_mapping(data , indic_ID):\n",
    "    dists = json.loads(data[indic_ID]['matching'])\n",
    "    u = json_normalize(dists)\n",
    "    out = u.sort_values(by=['distances'], ascending=[True])\n",
    "    return out\n",
    "\n",
    "def output_mapping(data , indic_ID):\n",
    "    u = get_ordered_mapping(data , indic_ID)\n",
    "    print(\"Indicateur : \" + data[indic_ID]['lib'])\n",
    "    print(\"Meilleurs matches :\")\n",
    "    print(u.head(5))"
   ]
  },
  {
   "cell_type": "markdown",
   "metadata": {},
   "source": [
    "Exemple d'output pour l'indicateur ETH1"
   ]
  },
  {
   "cell_type": "code",
   "execution_count": 90,
   "metadata": {
    "collapsed": false
   },
   "outputs": [
    {
     "name": "stdout",
     "output_type": "stream",
     "text": [
      "Indicateur : Out Patient Consultations (new cases)\n",
      "Meilleurs matches :\n",
      "    distances indicators                                lib\n",
      "27  11.111111       RCA2   Consultations externes (nvx cas)\n",
      "30  22.777778       RCA1              Consultation curative\n",
      "10  22.777778      RCA32  Consultation médecin nouveaux cas\n",
      "18  23.333333      RCA16                         TBC guérie\n",
      "33  23.333333      RCA26               VIH, personne testée\n"
     ]
    }
   ],
   "source": [
    "output_mapping(data , 'ETH1')"
   ]
  },
  {
   "cell_type": "code",
   "execution_count": 91,
   "metadata": {
    "collapsed": false
   },
   "outputs": [
    {
     "name": "stdout",
     "output_type": "stream",
     "text": [
      "Indicateur : HIV positive tested pregnant women put on PMTCT option B+\n",
      "Meilleurs matches :\n",
      "    distances indicators                                                lib\n",
      "34  11.666667      RCA22  PTPE : Femme VIH+ traitée selon le schéma nati...\n",
      "14  11.666667      RCA39     Femmes enceinte sous protocole ARV prophylaxie\n",
      "16  12.222222      RCA20                 PTPE : Femme enceinte VIH dépistée\n",
      "7   12.777778      RCA41   Prise en charge d'un nouveau-né d'une femme VIH+\n",
      "26  12.777778      RCA24  PTPE : Nouveau-né d'une femme VIH+ traité selo...\n"
     ]
    }
   ],
   "source": [
    "output_mapping(data , 'ETH9')"
   ]
  },
  {
   "cell_type": "code",
   "execution_count": 92,
   "metadata": {
    "collapsed": true
   },
   "outputs": [],
   "source": [
    "with open('data/indicators_lists.json') as data_file:\n",
    "    data = json.load(data_file)\n",
    "\n",
    "ethiopia = data['ethiopia']\n",
    "kivu = data['kivu']\n",
    "rca = data['rca']"
   ]
  },
  {
   "cell_type": "code",
   "execution_count": 116,
   "metadata": {
    "collapsed": true
   },
   "outputs": [],
   "source": [
    "def get_direct_mapping(data1 , indic_ID , data2) :\n",
    "    u = match_indicator_in_dataset(data1[indic_ID] , data2)\n",
    "    out = u.sort_values(by=['distances'], ascending=[True])\n",
    "    \n",
    "    print(\"Indicateur : \" + data1[indic_ID]['lib'])\n",
    "    print(\"Meilleurs matches :\")\n",
    "    print(out.head(5))\n",
    "    y = input(\"voir le mapping complet (y/n) ?\")\n",
    "    if y == 'y' :\n",
    "        print(out)"
   ]
  },
  {
   "cell_type": "code",
   "execution_count": 120,
   "metadata": {
    "collapsed": false
   },
   "outputs": [
    {
     "name": "stdout",
     "output_type": "stream",
     "text": [
      "Indicateur : Existing patient on ART\n",
      "Meilleurs matches :\n",
      "    distances indicators                                                lib\n",
      "19  22.777778      KIV30       Nombre d'Accouchées VIH+ mis sous traitement\n",
      "21  23.333333      KIV28         Nombre des femmes enceintes testées au VIH\n",
      "18  23.888889      KIV31  Nombre des nouveau-nés des femmes  VIH+ mis so...\n",
      "11  24.444444      KIV29        Nombre des couples testés au VIH pour PTME \n",
      "34  34.444444      KIV22                        CPN au 4ème mois (début T2)\n",
      "voir le mapping complet (y/n) ?y\n",
      "    distances indicators                                                lib\n",
      "19  22.777778      KIV30       Nombre d'Accouchées VIH+ mis sous traitement\n",
      "21  23.333333      KIV28         Nombre des femmes enceintes testées au VIH\n",
      "18  23.888889      KIV31  Nombre des nouveau-nés des femmes  VIH+ mis so...\n",
      "11  24.444444      KIV29        Nombre des couples testés au VIH pour PTME \n",
      "34  34.444444      KIV22                        CPN au 4ème mois (début T2)\n",
      "6   34.444444      KIV23                 CPN 3 visites standards accomplies\n",
      "8   34.444444      KIV24  Accouchements assistés dans FOSA (si score qua...\n",
      "28  34.444444       KIV7                   Femme enceinte ayant reçu VAT 2+\n",
      "24  34.444444      KIV26                       CPN: 2ème visite au 42e jour\n",
      "33  35.000000      KIV17         NC Indigent PF sous DIU ou Implant gratuit\n",
      "31  35.000000      KIV25  Accouchements assistés avec 3 CPN (si score qu...\n",
      "30  35.000000      KIV15          PF: Insertion d'implants ou DIU 2% par an\n",
      "29  35.000000      KIV12  Pilule + Inj (Anc acceptantes) (si score quali...\n",
      "1   35.000000      KIV16                Indigent ayant reçu Implants ou DIU\n",
      "17  35.000000       KIV9      Nombre de cas TBC traités et BK- après 6 mois\n",
      "13  35.000000      KIV14  Indigent Ancienne  utilisatrice PF (Pillule -I...\n",
      "4   35.000000      KIV11  Pilule + Inj (Nouv acceptantes) (si score qual...\n",
      "37  35.000000      KIV13  NC Indigent nouvelle utilisatrice (Pillule+Inj...\n",
      "32  35.555556       KIV1                             Consultations externes\n",
      "3   35.555556       KIV3      Patients graves référés et arrivé à l'hôpital\n",
      "35  35.555556       KIV8    Nouveaux cas TBC + dépistés (3 examens crachat)\n",
      "9   36.666667       KIV6                      Enfants complètement vaccinés\n",
      "0         NaN      KIV21  PF. Nombre des cas de Ligature et Vasectomie  ...\n",
      "2         NaN       KIV2                  Nouveau  cas suivi en observation\n",
      "5         NaN      KIV35  Nbre des jeunes de 18 à  24 ans ayant  reçu le...\n",
      "7         NaN      KIV37  Réunion  d'analyse des données SNIS  y compris...\n",
      "10        NaN      KIV36  Réunion  d'analyse des données SNIS  y compris...\n",
      "12        NaN      KIV19                   PF Naturelle nouvelles inscrites\n",
      "14        NaN      KIV10       Grossesses à  haut risque référée et arrivée\n",
      "15        NaN      KIV39           Nombre des visites à  domicile réalisées\n",
      "16        NaN       KIV5  Enfant 12 à  59 mois ayant réalisé 4 visites s...\n",
      "20        NaN       KIV4         Enfant de 12 à  59 mois inscrit à la CPS 2\n",
      "22        NaN      KIV33  Réunions d'échange avec les jeunes et adolesce...\n",
      "23        NaN      KIV27       Cas de VVS Referés  et arrivées à  l'Hopital\n",
      "25        NaN      KIV32  Consultations externes (nvx cas de victime  de...\n",
      "26        NaN      KIV38  Promptitude, complétude et correctitude à  100...\n",
      "27        NaN      KIV20  PF Naturelle nouvelles inscrites couples auton...\n",
      "36        NaN      KIV34  Nbre des jeunes de 10 à  24 ans ayant bénéfici...\n",
      "38        NaN      KIV18  PF : Couple ayant adhéré aux méthodes PF modernes\n"
     ]
    }
   ],
   "source": [
    "get_direct_mapping(ethiopia , 'ETH12' , kivu['pma'])"
   ]
  },
  {
   "cell_type": "code",
   "execution_count": null,
   "metadata": {
    "collapsed": true
   },
   "outputs": [],
   "source": []
  }
 ],
 "metadata": {
  "kernelspec": {
   "display_name": "Python 3",
   "language": "python",
   "name": "python3"
  },
  "language_info": {
   "codemirror_mode": {
    "name": "ipython",
    "version": 3
   },
   "file_extension": ".py",
   "mimetype": "text/x-python",
   "name": "python",
   "nbconvert_exporter": "python",
   "pygments_lexer": "ipython3",
   "version": "3.5.1"
  }
 },
 "nbformat": 4,
 "nbformat_minor": 0
}
